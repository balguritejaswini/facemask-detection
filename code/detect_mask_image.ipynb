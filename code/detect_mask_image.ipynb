{
 "cells": [
  {
   "cell_type": "code",
   "execution_count": 1,
   "metadata": {
    "executionInfo": {
     "elapsed": 164,
     "status": "ok",
     "timestamp": 1660189770882,
     "user": {
      "displayName": "Gannu Vineel",
      "userId": "17806887640844977048"
     },
     "user_tz": 360
    },
    "id": "TRLayHsuB21s"
   },
   "outputs": [],
   "source": [
    "# import the necessary packages\n",
    "import os\n",
    "import cv2\n",
    "import argparse\n",
    "import numpy as np\n",
    "from tensorflow.keras.models import load_model\n",
    "from tensorflow.keras.preprocessing.image import img_to_array\n",
    "from tensorflow.keras.applications.mobilenet_v2 import preprocess_input"
   ]
  },
  {
   "cell_type": "code",
   "execution_count": 2,
   "metadata": {
    "executionInfo": {
     "elapsed": 3,
     "status": "ok",
     "timestamp": 1660189771128,
     "user": {
      "displayName": "Gannu Vineel",
      "userId": "17806887640844977048"
     },
     "user_tz": 360
    },
    "id": "3PiymKGzB-jL"
   },
   "outputs": [],
   "source": [
    "# set the paths on where the prototxt, caffemodel and model files are \n",
    "# and other parameters\n",
    "prototxt_path = \"/Users/Tejaswini/Documents/CV/Facemask Detection/face/deploy.prototxt\"\n",
    "weights_path = \"/Users/Tejaswini/Documents/CV/Facemask Detection/face/res10_300x300_ssd_iter_140000.caffemodel\"\n",
    "model_path = \"/Users/Tejaswini/Documents/CV/Facemask Detection/model\"\n",
    "input_image_path = \"/Users/Tejaswini/Documents/CV/Facemask Detection/examples/example2.jpeg\"\n",
    "minimum_confidence = 0.5"
   ]
  },
  {
   "cell_type": "code",
   "execution_count": 3,
   "metadata": {
    "colab": {
     "base_uri": "https://localhost:8080/"
    },
    "executionInfo": {
     "elapsed": 3,
     "status": "ok",
     "timestamp": 1660189771129,
     "user": {
      "displayName": "Gannu Vineel",
      "userId": "17806887640844977048"
     },
     "user_tz": 360
    },
    "id": "2EYvj9RTCAzo",
    "outputId": "eb80c1a8-a3ac-401b-a625-1283fb90fd96"
   },
   "outputs": [
    {
     "name": "stdout",
     "output_type": "stream",
     "text": [
      "Loading face detector model...\n"
     ]
    },
    {
     "ename": "error",
     "evalue": "OpenCV(4.5.5) /Users/runner/work/opencv-python/opencv-python/opencv/modules/dnn/src/caffe/caffe_io.cpp:1126: error: (-2:Unspecified error) FAILED: fs.is_open(). Can't open \"/Users/Tejaswini/Documents/CV/Facemask Detection/face/deploy.prototxt\" in function 'ReadProtoFromTextFile'\n",
     "output_type": "error",
     "traceback": [
      "\u001b[0;31m---------------------------------------------------------------------------\u001b[0m",
      "\u001b[0;31merror\u001b[0m                                     Traceback (most recent call last)",
      "Input \u001b[0;32mIn [3]\u001b[0m, in \u001b[0;36m<cell line: 3>\u001b[0;34m()\u001b[0m\n\u001b[1;32m      1\u001b[0m \u001b[38;5;66;03m# load our serialized face detector model from disk\u001b[39;00m\n\u001b[1;32m      2\u001b[0m \u001b[38;5;28mprint\u001b[39m(\u001b[38;5;124m\"\u001b[39m\u001b[38;5;124mLoading face detector model...\u001b[39m\u001b[38;5;124m\"\u001b[39m)\n\u001b[0;32m----> 3\u001b[0m net \u001b[38;5;241m=\u001b[39m \u001b[43mcv2\u001b[49m\u001b[38;5;241;43m.\u001b[39;49m\u001b[43mdnn\u001b[49m\u001b[38;5;241;43m.\u001b[39;49m\u001b[43mreadNet\u001b[49m\u001b[43m(\u001b[49m\u001b[43mprototxt_path\u001b[49m\u001b[43m,\u001b[49m\u001b[43m \u001b[49m\u001b[43mweights_path\u001b[49m\u001b[43m)\u001b[49m\n",
      "\u001b[0;31merror\u001b[0m: OpenCV(4.5.5) /Users/runner/work/opencv-python/opencv-python/opencv/modules/dnn/src/caffe/caffe_io.cpp:1126: error: (-2:Unspecified error) FAILED: fs.is_open(). Can't open \"/Users/Tejaswini/Documents/CV/Facemask Detection/face/deploy.prototxt\" in function 'ReadProtoFromTextFile'\n"
     ]
    }
   ],
   "source": [
    "# load our serialized face detector model from disk\n",
    "print(\"Loading face detector model...\")\n",
    "net = cv2.dnn.readNet(prototxt_path, weights_path)"
   ]
  },
  {
   "cell_type": "code",
   "execution_count": null,
   "metadata": {
    "colab": {
     "base_uri": "https://localhost:8080/"
    },
    "executionInfo": {
     "elapsed": 1712,
     "status": "ok",
     "timestamp": 1660189772838,
     "user": {
      "displayName": "Gannu Vineel",
      "userId": "17806887640844977048"
     },
     "user_tz": 360
    },
    "id": "OTcGWwlmCA21",
    "outputId": "f52eedf3-2a83-4768-8066-152960665ccc"
   },
   "outputs": [],
   "source": [
    "# load the face mask detector model from disk\n",
    "print(\"Loading face mask detector model...\")\n",
    "model = load_model(model_path)"
   ]
  },
  {
   "cell_type": "code",
   "execution_count": null,
   "metadata": {
    "executionInfo": {
     "elapsed": 161,
     "status": "ok",
     "timestamp": 1660189772997,
     "user": {
      "displayName": "Gannu Vineel",
      "userId": "17806887640844977048"
     },
     "user_tz": 360
    },
    "id": "8JyR54b-CA5L"
   },
   "outputs": [],
   "source": [
    "# load the input image from disk, clone it, and grab the image spatial\n",
    "# dimensions\n",
    "input_image = cv2.imread(input_image_path)\n",
    "orig = input_image.copy()\n",
    "(h, w) = input_image.shape[:2]"
   ]
  },
  {
   "cell_type": "code",
   "execution_count": null,
   "metadata": {
    "executionInfo": {
     "elapsed": 4,
     "status": "ok",
     "timestamp": 1660189772997,
     "user": {
      "displayName": "Gannu Vineel",
      "userId": "17806887640844977048"
     },
     "user_tz": 360
    },
    "id": "eCub8oEOCA7h"
   },
   "outputs": [],
   "source": [
    "# construct a blob from the image\n",
    "blob = cv2.dnn.blobFromImage(input_image, 1.0, (300, 300), (104.0, 177.0, 123.0))"
   ]
  },
  {
   "cell_type": "code",
   "execution_count": null,
   "metadata": {
    "colab": {
     "base_uri": "https://localhost:8080/"
    },
    "executionInfo": {
     "elapsed": 4,
     "status": "ok",
     "timestamp": 1660189772997,
     "user": {
      "displayName": "Gannu Vineel",
      "userId": "17806887640844977048"
     },
     "user_tz": 360
    },
    "id": "laqqPdSdCA93",
    "outputId": "962ce542-7ef1-4084-d863-a3f26dfe6b06"
   },
   "outputs": [],
   "source": [
    "# pass the blob through the network and obtain the face detections\n",
    "print(\"Computing face detections...\")\n",
    "net.setInput(blob)\n",
    "detections = net.forward()"
   ]
  },
  {
   "cell_type": "code",
   "execution_count": null,
   "metadata": {
    "colab": {
     "base_uri": "https://localhost:8080/"
    },
    "executionInfo": {
     "elapsed": 885,
     "status": "ok",
     "timestamp": 1660189773880,
     "user": {
      "displayName": "Gannu Vineel",
      "userId": "17806887640844977048"
     },
     "user_tz": 360
    },
    "id": "KTvQqYSvCBAN",
    "outputId": "c47dc0d3-9720-46a6-a36b-6618fc3f867e"
   },
   "outputs": [],
   "source": [
    "# loop over the detections\n",
    "for index in range(0, detections.shape[2]):\n",
    "    # extract the confidence (i.e., probability) associated with\n",
    "    # the detection\n",
    "    confidence = detections[0, 0, index, 2]\n",
    "\n",
    "    # filter out weak detections by ensuring the confidence is\n",
    "    # greater than the minimum confidence\n",
    "    if confidence > minimum_confidence:\n",
    "        # compute the (x, y)-coordinates of the bounding box for\n",
    "        # the object\n",
    "        box = detections[0, 0, index, 3:7] * np.array([w, h, w, h])\n",
    "        (startX, startY, endX, endY) = box.astype(\"int\")\n",
    "\n",
    "        # ensure the bounding boxes fall within the dimensions of\n",
    "        # the frame\n",
    "        (startX, startY) = (max(0, startX), max(0, startY))\n",
    "        (endX, endY) = (min(w - 1, endX), min(h - 1, endY))\n",
    "\n",
    "        # extract the face ROI, convert it from BGR to RGB channel\n",
    "        # ordering, resize it to 224x224, and preprocess it\n",
    "        face = input_image[startY:endY, startX:endX]\n",
    "        face = cv2.cvtColor(face, cv2.COLOR_BGR2RGB)\n",
    "        face = cv2.resize(face, (224, 224))\n",
    "        face = img_to_array(face)\n",
    "        face = preprocess_input(face)\n",
    "        face = np.expand_dims(face, axis=0)\n",
    "\n",
    "        # pass the face through the model to determine if the face\n",
    "        # has a mask or not\n",
    "        (mask, withoutMask) = model.predict(face)[0]\n",
    "        \n",
    "        # determine the class label and color we'll use to draw\n",
    "        # the bounding box and text\n",
    "        label = \"Mask\" if mask > withoutMask else \"No Mask\"\n",
    "        color = (0, 255, 0) if label == \"Mask\" else (0, 0, 255)\n",
    "\n",
    "        # include the probability in the label\n",
    "        label = \"{}: {:.2f}%\".format(label, max(mask, withoutMask) * 100)\n",
    "\n",
    "        # display the label and bounding box rectangle on the output\n",
    "        # frame\n",
    "        cv2.putText(input_image, label, (startX, startY - 10),\n",
    "        cv2.FONT_HERSHEY_SIMPLEX, 0.45, color, 2)\n",
    "        cv2.rectangle(input_image, (startX, startY), (endX, endY), color, 2)"
   ]
  },
  {
   "cell_type": "code",
   "execution_count": null,
   "metadata": {},
   "outputs": [],
   "source": [
    "from matplotlib import pyplot as plt\n",
    "plt.imshow(input_image)"
   ]
  },
  {
   "cell_type": "code",
   "execution_count": null,
   "metadata": {},
   "outputs": [],
   "source": []
  }
 ],
 "metadata": {
  "colab": {
   "authorship_tag": "ABX9TyPhfBEpy+wvmdEkIn0mdFgr",
   "collapsed_sections": [],
   "mount_file_id": "1UakpuHkjHWc_4rlko4_wSvPYDH5-5vkL",
   "name": "Copy of detect_mask_image.ipynb",
   "provenance": [
    {
     "file_id": "1UakpuHkjHWc_4rlko4_wSvPYDH5-5vkL",
     "timestamp": 1660189811118
    }
   ]
  },
  "kernelspec": {
   "display_name": "Python 3 (ipykernel)",
   "language": "python",
   "name": "python3"
  },
  "language_info": {
   "codemirror_mode": {
    "name": "ipython",
    "version": 3
   },
   "file_extension": ".py",
   "mimetype": "text/x-python",
   "name": "python",
   "nbconvert_exporter": "python",
   "pygments_lexer": "ipython3",
   "version": "3.9.12"
  }
 },
 "nbformat": 4,
 "nbformat_minor": 1
}
